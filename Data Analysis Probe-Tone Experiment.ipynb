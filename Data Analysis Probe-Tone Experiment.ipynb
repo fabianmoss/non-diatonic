{
 "cells": [
  {
   "cell_type": "markdown",
   "metadata": {},
   "source": [
    "#Non-diatonic Tone-Profiles"
   ]
  },
  {
   "cell_type": "markdown",
   "metadata": {},
   "source": [
    "##Introduction\n",
    "\n",
    "A fundamental component of Western music is harmony, a complex rule system featuring a point of reference, the tonic. Harmony allows listeners and performers to build up patterns of expectations and to experience dynamic streams of tension. Strikingly, in the late-romantic period as well as in contemporary film music, reference to a single overarching tonic decreases, while sequential harmonic progressions prevail. Those sequences can often be described by minimally voice-leading cycles of relative ($R$), parallel ($P$), and leading-tone ($L$) transformations on triads. Previous experimental research has accounted for a toroidal structure of the mental representation of the tonal space that is in astonishing accordance with music theoretic proposals. Furthermore, it has been shown that, given a diatonic context (i.e. a cadence), the $RPL$ transformations are perceived as a means of generating the tonal space (e.g. Krumhansl, 1998). In our probe-tone study, we investigated if the mental toroidal structure of the tonal space can also be evoked by providing non-diatonic contexts. Listeners were asked to rate the goodness-of-fit of probe-tones against the following contexts: minimal voice-leading cycles ($LR$ and $PR$), non-diatonic scales (hexatonic and octatonic), as well as short excerpts from musical pieces of romantic composers featuring those scales. Preliminary data indeed indicates firstly, that the hexatonic and octatonic scales possess internal hierarchies of stability (“tone profiles”) different from the diatonic scale and, secondly, that they nonetheless lead to the same toroidal structure evoked by diatonic contexts. We hypothesize that listeners have access to at least those three different tonal hierarchies (diatonic, hexatonic, octatonic), and are able to switch between them effortlessly when engaging with romantic or Hollywood film music.",
    "> Following Temperley (1999), correlate octatonic and hexatonic scales with KK profiles to show that they relate equally well/badly to four and three major and minor keys, respectively -> the maj/min profiles do not provide an adequate cognitive model for those scales.\n",
    "> \n",
    "> Test if the oct/hex scale vectors correlate better with the respective rating profiles than with maj/min. "
   ]
  },
  {
   "cell_type": "code",
   "execution_count": 11,
   "metadata": {
    "collapsed": false
   },
   "outputs": [
    {
     "name": "stdout",
     "output_type": "stream",
     "text": [
      "Populating the interactive namespace from numpy and matplotlib\n"
     ]
    }
   ],
   "source": [
    "%pylab inline\n",
    "from pandas import Series, DataFrame\n",
    "import pandas as pd\n",
    "import numpy as np\n",
    "from scipy.stats.stats import pearsonr\n",
    "import os, glob\n",
    "import matplotlib.pyplot as plt\n",
    "import seaborn as sns\n",
    "\n",
    "KK_major = [6.35, 2.23, 3.48, 2.33, 4.38, 4.09, 2.52, 5.19, 2.39, 3.66, 2.29, 2.88] # KK82 C-major profile\n",
    "KK_minor = [6.33, 2.68, 3.52, 5.38, 2.60, 3.53, 2.54, 4.75, 3.98, 2.69, 3.34, 3.17] # KK82 C-minor profile\n",
    "\n",
    "dia0 = [1, 0, 1, 0, 1, 1, 0, 1, 0, 1, 0, 1] # diatonic vector on c=0\n",
    "oct0 = [1, 1, 0, 1, 1, 0, 1, 1, 0, 1, 1, 0] # octatonic vector on c=0\n",
    "hex0 = [1, 0, 0, 1, 1, 0, 0, 1, 1, 0, 0, 1] # hexatonic vector on c=0\n",
    "chro = [1, 1, 1, 1, 1, 1, 1, 1, 1, 1, 1, 1] # chromatic vector\n",
    "pc_labels = ['C', 'C#', 'D', 'Eb', 'E', 'F', 'F#', 'G', 'Ab', 'A', 'Bb', 'B'] # pitch class labels\n",
    "modes = ['major', 'minor']\n",
    "\n",
    "def rotate(l,k):\n",
    "    \"\"\"rotates a list to position k\"\"\"\n",
    "    return l[k:] + l[:k]\n",
    "\n",
    "def profile(pitch_class, mode):\n",
    "    \"\"\"creates a KK82 profile of the key (pitch class, mode)\n",
    "    (Generalize function, if we get stable results for octatonic and hexatonic profiles)\"\"\"\n",
    "    if mode == 'major':\n",
    "        return rotate(KK_major, pitch_class)\n",
    "    else:\n",
    "        return rotate(KK_minor, pitch_class)\n",
    "    \n",
    "key_ratings = [profile(i, m) for i in range(12) for m in modes] # list of all 24 key ratings\n",
    "\n",
    "key_distances = DataFrame([[pearsonr(key1, key2)[0] for key1 in key_ratings] \n",
    "                           for key2 in key_ratings]) # 24x24 matrix of interkey distances\n",
    "\n",
    "# write key distances in Excel file\n",
    "writer = pd.ExcelWriter('key_distances.xlsx')\n",
    "key_distances.to_excel(writer, 'Sheet1', index=True) # write correlation matrix to .xlsx file without index column\n",
    "writer.save()"
   ]
  },
  {
   "cell_type": "markdown",
   "metadata": {},
   "source": [
    "## Method\n",
    "###Participants\n",
    "..."
   ]
  },
  {
   "cell_type": "markdown",
   "metadata": {},
   "source": [
    "###The Experiments\n",
    "We conducted three experiments to test for non-diatonic tone-profiles. In the original study (Krumansl & Kessler, 1982), scalar (ascending diatonic major scale and ascending harmonic minor scale) and triadic (cadences in major and minor) contexts were used against which the twelve probe tones (each member of the chromatic scale) were rated. \n",
    "\n",
    "All our experiments together constisted of $96+60+155=311$ trials. The whole experiment was partitioned into 4 blocks with forced intermissions of 5 minutes to give the participants an opportunity to rest.\n",
    "####Experiment 1\n",
    "Experiment 1 replicated the design from Krumhansl and Kessler (1982). As scalar contexts we used both ascending major and harmonic minor scales, as triadic contexts $II$-$V$-$I$, $IV$-$V$-$I$, and $VI$-$V$-$I$ cadences, each in major and minor. That gives us $8 \\times 12=96$ trials in this experiment.\n",
    "####Experiment 2a \n",
    "Experiment 2a employed contexts of extended tonal harmony. As scalar contexts, ascending octatonic and hexatonic scales were used. Since there is no obvious equivalent to cadences in those regions, we used $PR$ and $PL$ sequences of triads, respectively, to account for the triadic context type. We also added the $RL$ sequence. These result in octatonic, hexatonic, and diatonic cycles, respectively, i.e. $PR: C-c-E\\flat-e\\flat-F\\sharp-f\\sharp-A-a$, $PL: C-c-A\\flat-a\\flat-E-e$, and $RL: C-a-F-d-b°-G-e$. Since the latter creates a diatonic scale, there should be no substantial difference (or, very high correlation) with the major/minor profiles obtained from the scalar diatonic contexts. In this setup, we have $5 \\times 12 = 60$ trials.\n",
    "####Experiment 2b\n",
    "Experiment 2b used the same contexts as Experiment 2a, but instead of hearing single pitches as probes, listeners were asked to rate the goodness of fit of different probe stimuli: after hearing the context, 31 chords (12 major triads + 12 minor triads + 3 augmended triads + 4 diminished 7th chords) were presented. The last two chord types are symmetrical divisions of the octave and therefore regarded highly dissonant with respect to the major/minor tone-profiles. We included them here to see, if they could be perseeived as more stable than major or minor chords, given an appropriate context (as was suggested in Cohn, 2012 [Liszt-Faust symphony]). Experiment 2b consists of $5 \\times 31 = 155$ trials.\n",
    "####???Experiment 3\n",
    "Experiment 3 used ecologically valid context, i.e. excerpts from pieces of 19th century composers (and Jazz pieces?), where only octatonic and hexatonic scales were heard. \n",
    "\n",
    "Implicit (triadic) use of octatonic and hexatonic scale respectively.\n",
    "Octatonic: Messiaen, Prélude No. 1\n",
    "Hexatonic: Wagner, Grail motive (hex-version)"
   ]
  },
  {
   "cell_type": "markdown",
   "metadata": {},
   "source": [
    "###Materials\n",
    "The stimuli were produced with the MuseScore software. The output MIDI files were normalised at 50% (peak) with Sibelius, using Bösenforfer Grand Piano from Vienna Instruments Special Edition as Instrument.\n",
    "The scalar contexts were presented with tempo $120$ bpm and the chord contexts with $60$ bpm.\n",
    "The target stimuli had all a duration of $0.5$ seconds ($120$ bpm).\n",
    "The cadences all featured downward motion in the soprano, resulting in a $\\hat{6}-\\hat{5}-\\hat{5}$ pattern, with alterations respective to the mode.\n",
    "The octatonic $PR$ and hexatonic $PL$ chord sequences were presented in a manner that should have a strong implication for the first chord of the sequence. Because of the particular structure of the diatonic scale a uniform $LR$ sequence is not able to generate the sequence C-a-F-d-b°-G-e but in terms of root motion a diatonic third downward it is uniform. This leads to an upward movement of the melody. "
   ]
  },
  {
   "cell_type": "code",
   "execution_count": 6,
   "metadata": {
    "collapsed": true
   },
   "outputs": [],
   "source": [
    "### Create files for PsychoPy experiment\n",
    "\n",
    "### practice.xlsx\n",
    "\n",
    "practice = pd.DataFrame({'wav_pcontext': ['sounds/practice/asc_maj.wav', 'sounds/practice/asc_maj.wav'],\n",
    "                         'wav_ptarget' : ['sounds/practice/00.wav', 'sounds/practice/06.wav']})\n",
    "\n",
    "writer = pd.ExcelWriter('practice.xlsx')\n",
    "practice.to_excel(writer, 'Sheet1', index=False) # write to .xlsx file without index column\n",
    "writer.save()\n",
    "\n",
    "### conditions.xlsx\n",
    "\n",
    "experiments = ['exp1', 'exp2a', 'exp2b']\n",
    "\n",
    "conditions = []\n",
    "\n",
    "for experiment in experiments:\n",
    "    contexts =  glob.glob(\"sounds/\" + experiment + \"/contexts/\" + \"*.wav\") # get list of filenames in contexts folder\n",
    "    targets =  glob.glob(\"sounds/\" + experiment + \"/targets/\" + \"*.wav\") # get list of filenames in targets folder\n",
    "    for context in contexts:\n",
    "        for target in targets:\n",
    "            conditions.append([str(experiment), str(context), str(target)])\n",
    "            \n",
    "conditions = DataFrame(np.array(conditions))\n",
    "conditions.columns = ['experiment', 'contexts', 'targets']\n",
    "\n",
    "writer = pd.ExcelWriter('conditions.xlsx')\n",
    "conditions.to_excel(writer, 'Sheet1', index=False) # write to .xlsx file without index column\n",
    "writer.save()"
   ]
  },
  {
   "cell_type": "markdown",
   "metadata": {},
   "source": [
    "##Results"
   ]
  },
  {
   "cell_type": "code",
   "execution_count": 8,
   "metadata": {
    "collapsed": false
   },
   "outputs": [
    {
     "name": "stdout",
     "output_type": "stream",
     "text": [
      "['1a', '1a', '1a', '1a', '1a', '1a', '1a', '1a', '1a', '1a', '1a', '1a', '1a', '1a', '1a', '1a', '1a', '1a', '1a', '1a', '1a', '1a', '1a', '1a', '1a', '1a', '1a', '1a', '1a', '1a', '1a', '1a', '1a', '1a', '1a', '1a', '1a', '1a', '1a', '1a', '1a', '1a', '1a', '1a', '1a', '1a', '1a', '1a', '1a', '1a', '1a', '1a', '1a', '1a', '1a', '1a', '1a', '1a', '1a', '1a', '1a', '1a', '1a', '1a', '1a', '1a', '1a', '1a', '1a', '1a', '1a', '1a', '1a', '1a', '1a', '1a', '1a', '1a', '1a', '1a', '1a', '1a', '1a', '1a', '1a', '1a', '1a', '1a', '1a', '1a', '1a', '1a', '1a', '1a', '1a', '1a', '1a', '1a', '1a', '1a', '1a', '1a', '1a', '1a', '1a', '1a', '1a', '1a', '1a', '1a', '1a', '1a', '1a', '1a', '1a', '1a', '1a', '1a', '1a', '1a', '1a', '1a', '1a', '1a', '1a', '1a', '1a', '1a', '1a', '1a', '1a', '1a', '1a', '1a', '1a', '1a', '1a', '1a', '1a', '1a', '1a', '1a', '1a', '1a', '1a', '1a', '1a', '1a', '1a', '1a', '1a', '1a', '1a', '1a', '1a', '1a', '1a', '1a', '1a', '1a', '1a', '1a', '1a', '1a', '1a', '1a', '1a', '1a', '1a', '1a', '1a', '1a', '1a', '1a', '1a', '1a', '1a', '1a', '1a', '1a', '1a', '1a', '1a', '1a', '1a', '1a', '1a', '1a', '1a', '1a', '1a', '1a']\n"
     ]
    }
   ],
   "source": [
    "### Getting the data from PsychoPy experiment\n",
    "\n",
    "data_files = glob.glob(\"data/*.csv\") # get list of filenames in data folder\n",
    "# NOTE: double '/' ???\n",
    "\n",
    "frames = [] \n",
    "for the_file in data_files:\n",
    "    current_file = pd.read_csv(the_file) \n",
    "    current_file = current_file.drop(current_file.index[[0,1]]) # delete practice trial rows\n",
    "    frames.append(current_file) # make list of DataFrames\n",
    "\n",
    "data = pd.concat(frames, axis=0) # concatenate all DateFrames vertically\n",
    "data = data.reset_index(drop=True) # reset the overall index\n",
    "data = data[['exp_no', 'context', 'probe', 'sld_rating.response', 'sld_rating.rt', 'participant', 'date']] # select relevant cols\n",
    "\n",
    "### 'data' now stores all ratings from all particiants\n",
    "### Plot tone profiles\n",
    "\n",
    "#data.groupby(['exp_no', 'context', 'probe']).mean() # mean values for tone profiles.\n",
    "\n",
    "## Experiment 1\n",
    "# Profile for asc_maj context vs. 12 pitches\n",
    "\n",
    "exp1a = []\n",
    "for line in data.exp_no:\n",
    "    if line == '1a':\n",
    "        exp1a.append(line)\n",
    "        \n",
    "print exp1a\n",
    "\n",
    "# Profile for asc_min context vs. 12 pitches\n",
    "# Profile for II-maj context vs. 12 pitches\n",
    "# Profile for IV-maj context vs. 12 pitches\n",
    "# Profile for VI-maj context vs. 12 pitches\n",
    "# Profile for II-min context vs. 12 pitches\n",
    "# Profile for IV-min context vs. 12 pitches\n",
    "# Profile for VI-min context vs. 12 pitches\n",
    "\n",
    "## Experiment 2a\n",
    "# Profile for asc_oct context vs. 12 pitches\n",
    "# Profile for asc_hex context vs. 12 pitches\n",
    "# Profile for PR context vs. 12 pitches\n",
    "# Profile for PL context vs. 12 pitches\n",
    "# Profile for RL context vs. 12 pitches\n",
    "\n",
    "## Experiment 2b\n",
    "## How to display these ratings? Ranked tables?\n",
    "# asc_oct context vs. 31 chords\n",
    "# asc_hex context vs. 31 chords\n",
    "# PR context vs. 31 chords\n",
    "# PL context vs. 31 chords\n",
    "# RL context vs. 31 chords\n",
    "\n",
    "\n",
    "#+ ??? Experiment 3\n",
    "\n"
   ]
  },
  {
   "cell_type": "markdown",
   "metadata": {},
   "source": [
    "##Discussion"
   ]
  }
 ],
 "metadata": {
  "kernelspec": {
   "display_name": "Python 2",
   "language": "python",
   "name": "python2"
  },
  "language_info": {
   "codemirror_mode": {
    "name": "ipython",
    "version": 2
   },
   "file_extension": ".py",
   "mimetype": "text/x-python",
   "name": "python",
   "nbconvert_exporter": "python",
   "pygments_lexer": "ipython2",
   "version": "2.7.10"
  }
 },
 "nbformat": 4,
 "nbformat_minor": 0
}
